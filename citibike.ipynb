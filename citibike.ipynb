{
 "metadata": {
  "language_info": {
   "codemirror_mode": {
    "name": "ipython",
    "version": 3
   },
   "file_extension": ".py",
   "mimetype": "text/x-python",
   "name": "python",
   "nbconvert_exporter": "python",
   "pygments_lexer": "ipython3",
   "version": "3.7.6-final"
  },
  "orig_nbformat": 2,
  "kernelspec": {
   "name": "python3",
   "display_name": "Python 3",
   "language": "python"
  }
 },
 "nbformat": 4,
 "nbformat_minor": 2,
 "cells": [
  {
   "cell_type": "code",
   "execution_count": 7,
   "metadata": {},
   "outputs": [],
   "source": [
    "import os, glob\n",
    "import pandas as pd\n",
    "\n",
    "path = \"Resources/\"\n",
    "\n",
    "all_files = glob.glob(os.path.join(path, \"2020*.csv\"))\n",
    "df_from_each_file = (pd.read_csv(f, sep=',') for f in all_files)\n",
    "df_merged = pd.concat(df_from_each_file, ignore_index=True)\n",
    "df_merged.to_csv(\"citibike_merged.csv\")"
   ]
  },
  {
   "cell_type": "code",
   "execution_count": 8,
   "metadata": {},
   "outputs": [
    {
     "output_type": "execute_result",
     "data": {
      "text/plain": [
       "          tripduration                 starttime                  stoptime  \\\n",
       "0                 1062  2020-06-01 00:00:03.3720  2020-06-01 00:17:46.2080   \n",
       "1                 3810  2020-06-01 00:00:03.5530  2020-06-01 01:03:33.9360   \n",
       "2                 1017  2020-06-01 00:00:09.6140  2020-06-01 00:17:06.8330   \n",
       "3                  226  2020-06-01 00:00:12.1780  2020-06-01 00:03:58.8640   \n",
       "4                 1437  2020-06-01 00:00:21.2550  2020-06-01 00:24:18.9650   \n",
       "...                ...                       ...                       ...   \n",
       "12791388           257  2020-11-30 23:58:44.6840  2020-12-01 00:03:01.9470   \n",
       "12791389           617  2020-11-30 23:58:45.6210  2020-12-01 00:09:02.8300   \n",
       "12791390           116  2020-11-30 23:58:45.7200  2020-12-01 00:00:41.9570   \n",
       "12791391           409  2020-11-30 23:59:20.1480  2020-12-01 00:06:09.7540   \n",
       "12791392           301  2020-11-30 23:59:47.9750  2020-12-01 00:04:49.2260   \n",
       "\n",
       "          start station id           start station name  \\\n",
       "0                     3419          Douglass St & 4 Ave   \n",
       "1                      366     Clinton Ave & Myrtle Ave   \n",
       "2                      389          Broadway & Berry St   \n",
       "3                     3255              8 Ave & W 31 St   \n",
       "4                      367      E 53 St & Lexington Ave   \n",
       "...                    ...                          ...   \n",
       "12791388               324      DeKalb Ave & Hudson Ave   \n",
       "12791389               439               E 4 St & 2 Ave   \n",
       "12791390              3616         Steinway St & 28 Ave   \n",
       "12791391              3521         Lenox Ave & W 111 St   \n",
       "12791392               241  DeKalb Ave & S Portland Ave   \n",
       "\n",
       "          start station latitude  start station longitude  end station id  \\\n",
       "0                      40.679279               -73.981540            3419   \n",
       "1                      40.693261               -73.968896             336   \n",
       "2                      40.710446               -73.965251            3562   \n",
       "3                      40.750585               -73.994685             505   \n",
       "4                      40.758281               -73.970694             497   \n",
       "...                          ...                      ...             ...   \n",
       "12791388               40.689888               -73.981013             421   \n",
       "12791389               40.726281               -73.989780            3709   \n",
       "12791390               40.765625               -73.913669            3600   \n",
       "12791391               40.798786               -73.952300            3325   \n",
       "12791392               40.689810               -73.974931             274   \n",
       "\n",
       "                        end station name  end station latitude  \\\n",
       "0                    Douglass St & 4 Ave             40.679279   \n",
       "1            Sullivan St & Washington Sq             40.730477   \n",
       "2             Classon Ave & St Marks Ave             40.676520   \n",
       "3                        6 Ave & W 33 St             40.749013   \n",
       "4                     E 17 St & Broadway             40.737050   \n",
       "...                                  ...                   ...   \n",
       "12791388         Clermont Ave & Park Ave             40.695734   \n",
       "12791389                 W 15 St & 6 Ave             40.738046   \n",
       "12791390            31 Ave & Steinway St             40.761149   \n",
       "12791391                 E 95 St & 3 Ave             40.784903   \n",
       "12791392  Lafayette Ave & Fort Greene Pl             40.686919   \n",
       "\n",
       "          end station longitude  bikeid    usertype  birth year  gender  \n",
       "0                    -73.981540   39852    Customer        1997       2  \n",
       "1                    -73.999061   37558  Subscriber        1969       0  \n",
       "2                    -73.959608   37512    Customer        1988       2  \n",
       "3                    -73.988484   39674    Customer        1969       0  \n",
       "4                    -73.990093   21093    Customer        1997       2  \n",
       "...                         ...     ...         ...         ...     ...  \n",
       "12791388             -73.971297   49932  Subscriber        1992       1  \n",
       "12791389             -73.996430   38817    Customer        1969       0  \n",
       "12791390             -73.917007   32874  Subscriber        1980       1  \n",
       "12791391             -73.950503   36675    Customer        2001       1  \n",
       "12791392             -73.976682   27784  Subscriber        1948       1  \n",
       "\n",
       "[12791393 rows x 15 columns]"
      ],
      "text/html": "<div>\n<style scoped>\n    .dataframe tbody tr th:only-of-type {\n        vertical-align: middle;\n    }\n\n    .dataframe tbody tr th {\n        vertical-align: top;\n    }\n\n    .dataframe thead th {\n        text-align: right;\n    }\n</style>\n<table border=\"1\" class=\"dataframe\">\n  <thead>\n    <tr style=\"text-align: right;\">\n      <th></th>\n      <th>tripduration</th>\n      <th>starttime</th>\n      <th>stoptime</th>\n      <th>start station id</th>\n      <th>start station name</th>\n      <th>start station latitude</th>\n      <th>start station longitude</th>\n      <th>end station id</th>\n      <th>end station name</th>\n      <th>end station latitude</th>\n      <th>end station longitude</th>\n      <th>bikeid</th>\n      <th>usertype</th>\n      <th>birth year</th>\n      <th>gender</th>\n    </tr>\n  </thead>\n  <tbody>\n    <tr>\n      <th>0</th>\n      <td>1062</td>\n      <td>2020-06-01 00:00:03.3720</td>\n      <td>2020-06-01 00:17:46.2080</td>\n      <td>3419</td>\n      <td>Douglass St &amp; 4 Ave</td>\n      <td>40.679279</td>\n      <td>-73.981540</td>\n      <td>3419</td>\n      <td>Douglass St &amp; 4 Ave</td>\n      <td>40.679279</td>\n      <td>-73.981540</td>\n      <td>39852</td>\n      <td>Customer</td>\n      <td>1997</td>\n      <td>2</td>\n    </tr>\n    <tr>\n      <th>1</th>\n      <td>3810</td>\n      <td>2020-06-01 00:00:03.5530</td>\n      <td>2020-06-01 01:03:33.9360</td>\n      <td>366</td>\n      <td>Clinton Ave &amp; Myrtle Ave</td>\n      <td>40.693261</td>\n      <td>-73.968896</td>\n      <td>336</td>\n      <td>Sullivan St &amp; Washington Sq</td>\n      <td>40.730477</td>\n      <td>-73.999061</td>\n      <td>37558</td>\n      <td>Subscriber</td>\n      <td>1969</td>\n      <td>0</td>\n    </tr>\n    <tr>\n      <th>2</th>\n      <td>1017</td>\n      <td>2020-06-01 00:00:09.6140</td>\n      <td>2020-06-01 00:17:06.8330</td>\n      <td>389</td>\n      <td>Broadway &amp; Berry St</td>\n      <td>40.710446</td>\n      <td>-73.965251</td>\n      <td>3562</td>\n      <td>Classon Ave &amp; St Marks Ave</td>\n      <td>40.676520</td>\n      <td>-73.959608</td>\n      <td>37512</td>\n      <td>Customer</td>\n      <td>1988</td>\n      <td>2</td>\n    </tr>\n    <tr>\n      <th>3</th>\n      <td>226</td>\n      <td>2020-06-01 00:00:12.1780</td>\n      <td>2020-06-01 00:03:58.8640</td>\n      <td>3255</td>\n      <td>8 Ave &amp; W 31 St</td>\n      <td>40.750585</td>\n      <td>-73.994685</td>\n      <td>505</td>\n      <td>6 Ave &amp; W 33 St</td>\n      <td>40.749013</td>\n      <td>-73.988484</td>\n      <td>39674</td>\n      <td>Customer</td>\n      <td>1969</td>\n      <td>0</td>\n    </tr>\n    <tr>\n      <th>4</th>\n      <td>1437</td>\n      <td>2020-06-01 00:00:21.2550</td>\n      <td>2020-06-01 00:24:18.9650</td>\n      <td>367</td>\n      <td>E 53 St &amp; Lexington Ave</td>\n      <td>40.758281</td>\n      <td>-73.970694</td>\n      <td>497</td>\n      <td>E 17 St &amp; Broadway</td>\n      <td>40.737050</td>\n      <td>-73.990093</td>\n      <td>21093</td>\n      <td>Customer</td>\n      <td>1997</td>\n      <td>2</td>\n    </tr>\n    <tr>\n      <th>...</th>\n      <td>...</td>\n      <td>...</td>\n      <td>...</td>\n      <td>...</td>\n      <td>...</td>\n      <td>...</td>\n      <td>...</td>\n      <td>...</td>\n      <td>...</td>\n      <td>...</td>\n      <td>...</td>\n      <td>...</td>\n      <td>...</td>\n      <td>...</td>\n      <td>...</td>\n    </tr>\n    <tr>\n      <th>12791388</th>\n      <td>257</td>\n      <td>2020-11-30 23:58:44.6840</td>\n      <td>2020-12-01 00:03:01.9470</td>\n      <td>324</td>\n      <td>DeKalb Ave &amp; Hudson Ave</td>\n      <td>40.689888</td>\n      <td>-73.981013</td>\n      <td>421</td>\n      <td>Clermont Ave &amp; Park Ave</td>\n      <td>40.695734</td>\n      <td>-73.971297</td>\n      <td>49932</td>\n      <td>Subscriber</td>\n      <td>1992</td>\n      <td>1</td>\n    </tr>\n    <tr>\n      <th>12791389</th>\n      <td>617</td>\n      <td>2020-11-30 23:58:45.6210</td>\n      <td>2020-12-01 00:09:02.8300</td>\n      <td>439</td>\n      <td>E 4 St &amp; 2 Ave</td>\n      <td>40.726281</td>\n      <td>-73.989780</td>\n      <td>3709</td>\n      <td>W 15 St &amp; 6 Ave</td>\n      <td>40.738046</td>\n      <td>-73.996430</td>\n      <td>38817</td>\n      <td>Customer</td>\n      <td>1969</td>\n      <td>0</td>\n    </tr>\n    <tr>\n      <th>12791390</th>\n      <td>116</td>\n      <td>2020-11-30 23:58:45.7200</td>\n      <td>2020-12-01 00:00:41.9570</td>\n      <td>3616</td>\n      <td>Steinway St &amp; 28 Ave</td>\n      <td>40.765625</td>\n      <td>-73.913669</td>\n      <td>3600</td>\n      <td>31 Ave &amp; Steinway St</td>\n      <td>40.761149</td>\n      <td>-73.917007</td>\n      <td>32874</td>\n      <td>Subscriber</td>\n      <td>1980</td>\n      <td>1</td>\n    </tr>\n    <tr>\n      <th>12791391</th>\n      <td>409</td>\n      <td>2020-11-30 23:59:20.1480</td>\n      <td>2020-12-01 00:06:09.7540</td>\n      <td>3521</td>\n      <td>Lenox Ave &amp; W 111 St</td>\n      <td>40.798786</td>\n      <td>-73.952300</td>\n      <td>3325</td>\n      <td>E 95 St &amp; 3 Ave</td>\n      <td>40.784903</td>\n      <td>-73.950503</td>\n      <td>36675</td>\n      <td>Customer</td>\n      <td>2001</td>\n      <td>1</td>\n    </tr>\n    <tr>\n      <th>12791392</th>\n      <td>301</td>\n      <td>2020-11-30 23:59:47.9750</td>\n      <td>2020-12-01 00:04:49.2260</td>\n      <td>241</td>\n      <td>DeKalb Ave &amp; S Portland Ave</td>\n      <td>40.689810</td>\n      <td>-73.974931</td>\n      <td>274</td>\n      <td>Lafayette Ave &amp; Fort Greene Pl</td>\n      <td>40.686919</td>\n      <td>-73.976682</td>\n      <td>27784</td>\n      <td>Subscriber</td>\n      <td>1948</td>\n      <td>1</td>\n    </tr>\n  </tbody>\n</table>\n<p>12791393 rows × 15 columns</p>\n</div>"
     },
     "metadata": {},
     "execution_count": 8
    }
   ],
   "source": [
    "df_merged"
   ]
  },
  {
   "cell_type": "code",
   "execution_count": null,
   "metadata": {},
   "outputs": [],
   "source": []
  }
 ]
}